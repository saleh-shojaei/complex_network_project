{
 "cells": [
  {
   "metadata": {},
   "cell_type": "markdown",
   "source": "# Load Data",
   "id": "417242fee2efd134"
  },
  {
   "cell_type": "code",
   "id": "initial_id",
   "metadata": {
    "collapsed": true,
    "ExecuteTime": {
     "end_time": "2025-09-05T11:55:35.734021Z",
     "start_time": "2025-09-05T11:55:18.480883Z"
    }
   },
   "source": [
    "import networkx as nx\n",
    "\n",
    "mobility_network = nx.read_gml(\"data/Mobility.gml\")\n",
    "communication_network = nx.read_gml(\"data/Communication.gml\")"
   ],
   "outputs": [],
   "execution_count": 21
  },
  {
   "metadata": {},
   "cell_type": "markdown",
   "source": "# Add Geocodes",
   "id": "280c9cebb5b876b8"
  },
  {
   "metadata": {
    "ExecuteTime": {
     "end_time": "2025-09-05T19:22:36.000802Z",
     "start_time": "2025-09-05T19:22:35.988912Z"
    }
   },
   "cell_type": "code",
   "source": [
    "import urllib3\n",
    "import json\n",
    "\n",
    "# setup HTTP pool with custom user-agent (required by Nominatim)\n",
    "http = urllib3.PoolManager(num_pools=1, headers={'User-Agent': 'my-test-app'})\n",
    "\n",
    "def fetch_geocode(lat, lon):\n",
    "    \"\"\"\n",
    "    fetch reverse geocoding data from OSM Nominatim.\n",
    "    \"\"\"\n",
    "    url = f'https://nominatim.openstreetmap.org/reverse.php?lat={lat}&lon={lon}&zoom=18&format=jsonv2'\n",
    "    try:\n",
    "        resp = http.request('GET', url, timeout=urllib3.Timeout(connect=5.0, read=10.0))\n",
    "        if resp.status == 200:\n",
    "            return json.loads(resp.data.decode())\n",
    "        else:\n",
    "            print(f\"⚠️ Failed for ({lat}, {lon}) - status {resp.status}\")\n",
    "            return None\n",
    "    except Exception as e:\n",
    "        print(f\"⚠️ Error for ({lat}, {lon}): {e}\")\n",
    "        return None\n",
    "\n",
    "def enrich_graph(graph):\n",
    "    \"\"\"\n",
    "    iterate over graph nodes,enrich with reverse geocode info.\n",
    "    \"\"\"\n",
    "    for node, data in graph.nodes(data=True):\n",
    "        # skip if already enriched\n",
    "        if \"country\" in data:\n",
    "            continue\n",
    "        result = fetch_geocode(lat=data.get(\"lat\"), lon=data.get(\"lon\"))\n",
    "        if result:\n",
    "            address = result.get(\"address\", {})\n",
    "            country = address.get(\"country\", \"\")\n",
    "            state = address.get(\"state\", \"\")\n",
    "            county = address.get(\"county\", \"\")\n",
    "            city = address.get(\"city\", \"\")\n",
    "\n",
    "            graph.nodes[node][\"country\"] = country\n",
    "            graph.nodes[node][\"state\"] = state\n",
    "            graph.nodes[node][\"county\"] = county\n",
    "            graph.nodes[node][\"city\"] = city\n",
    "\n",
    "enrich_graph(communication_network)\n",
    "enrich_graph(mobility_network)"
   ],
   "id": "750ce8b1de0294bc",
   "outputs": [],
   "execution_count": 83
  },
  {
   "metadata": {},
   "cell_type": "markdown",
   "source": "# Save Augmented Graph",
   "id": "5cbfbf5971670a4d"
  },
  {
   "metadata": {
    "ExecuteTime": {
     "end_time": "2025-09-05T19:22:47.746552Z",
     "start_time": "2025-09-05T19:22:43.416459Z"
    }
   },
   "cell_type": "code",
   "source": [
    "nx.write_gml(communication_network, \"data/Communication_Augmented.gml\")\n",
    "nx.write_gml(mobility_network, \"data/Mobility_Augmented.gml\")"
   ],
   "id": "fa827e86d9eac13a",
   "outputs": [],
   "execution_count": 84
  }
 ],
 "metadata": {
  "kernelspec": {
   "display_name": "Python 3",
   "language": "python",
   "name": "python3"
  },
  "language_info": {
   "codemirror_mode": {
    "name": "ipython",
    "version": 2
   },
   "file_extension": ".py",
   "mimetype": "text/x-python",
   "name": "python",
   "nbconvert_exporter": "python",
   "pygments_lexer": "ipython2",
   "version": "2.7.6"
  }
 },
 "nbformat": 4,
 "nbformat_minor": 5
}
