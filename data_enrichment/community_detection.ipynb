{
 "cells": [
  {
   "metadata": {},
   "cell_type": "markdown",
   "source": "# Load Data",
   "id": "8b243d99c92d7d32"
  },
  {
   "cell_type": "code",
   "id": "initial_id",
   "metadata": {
    "collapsed": true,
    "ExecuteTime": {
     "end_time": "2025-09-05T10:21:48.201541Z",
     "start_time": "2025-09-05T10:21:04.160650Z"
    }
   },
   "source": [
    "import networkx as nx\n",
    "\n",
    "mobility_network = nx.read_gml(\"data/Mobility_Augmented.gml\")\n",
    "communication_network = nx.read_gml(\"data/Communication_Augmented.gml\")"
   ],
   "outputs": [],
   "execution_count": 2
  },
  {
   "metadata": {},
   "cell_type": "markdown",
   "source": "# Detect Communities",
   "id": "e99b82a9d00bfc8c"
  },
  {
   "metadata": {
    "ExecuteTime": {
     "end_time": "2025-09-05T10:36:13.541827Z",
     "start_time": "2025-09-05T10:35:52.881413Z"
    }
   },
   "cell_type": "code",
   "source": [
    "import community as community_louvain\n",
    "\n",
    "# run Louvain community detection\n",
    "partition = community_louvain.best_partition(communication_network)\n",
    "# extract communities detected\n",
    "communities = partition.values()\n",
    "# extract ground truth states from node attributes\n",
    "states = {node: data['state'] for node, data in communication_network.nodes(data=True)}\n",
    "\n",
    "# convert state labels to numeric for comparison\n",
    "unique_states = list(set(states.values()))\n",
    "state_labels = [unique_states.index(states[node]) for node in communication_network.nodes()]\n",
    "# convert community labels to numeric\n",
    "community_labels = [partition[node] for node in communication_network.nodes()]"
   ],
   "id": "93f095b883747193",
   "outputs": [],
   "execution_count": 10
  },
  {
   "metadata": {},
   "cell_type": "markdown",
   "source": "# Evaluate Communities",
   "id": "828616b3c6c2bb98"
  },
  {
   "metadata": {
    "ExecuteTime": {
     "end_time": "2025-09-05T11:36:00.811844Z",
     "start_time": "2025-09-05T11:36:00.799547Z"
    }
   },
   "cell_type": "code",
   "source": [
    "from sklearn.metrics import adjusted_rand_score\n",
    "\n",
    "# compare detected communities with states using Adjusted Rand Index\n",
    "ari_score = adjusted_rand_score(state_labels, community_labels)\n",
    "print(f\"Adjusted Rand Index between detected communities and states: {ari_score:.3f}\")"
   ],
   "id": "34cb48dd965b126d",
   "outputs": [
    {
     "name": "stdout",
     "output_type": "stream",
     "text": [
      "Adjusted Rand Index between detected communities and states: 0.447\n"
     ]
    }
   ],
   "execution_count": 15
  }
 ],
 "metadata": {
  "kernelspec": {
   "display_name": "Python 3",
   "language": "python",
   "name": "python3"
  },
  "language_info": {
   "codemirror_mode": {
    "name": "ipython",
    "version": 2
   },
   "file_extension": ".py",
   "mimetype": "text/x-python",
   "name": "python",
   "nbconvert_exporter": "python",
   "pygments_lexer": "ipython2",
   "version": "2.7.6"
  }
 },
 "nbformat": 4,
 "nbformat_minor": 5
}
